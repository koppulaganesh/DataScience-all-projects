{
 "cells": [
  {
   "cell_type": "code",
   "execution_count": 1,
   "id": "21879a16-fe4b-45ba-8909-ee5dd7ab8702",
   "metadata": {},
   "outputs": [],
   "source": [
    "import warnings\n",
    "warnings.filterwarnings(\"ignore\") \n",
    "\n",
    "import warnings\n",
    "warnings.simplefilter(action=\"ignore\",category=FutureWarning)\n",
    "\n",
    "import pandas as pd\n",
    "import numpy as np"
   ]
  },
  {
   "cell_type": "code",
   "execution_count": 2,
   "id": "b45c3fbd-ca12-4964-b39c-268b03e03e7b",
   "metadata": {},
   "outputs": [],
   "source": [
    "df=pd.read_csv(r\"C:\\Users\\ganig\\OneDrive\\Desktop\\Dataset\\gld_price_data.csv\")"
   ]
  },
  {
   "cell_type": "code",
   "execution_count": 3,
   "id": "ac0b628d-047a-4ecc-b3a4-4e377ff62317",
   "metadata": {},
   "outputs": [
    {
     "data": {
      "text/html": [
       "<div>\n",
       "<style scoped>\n",
       "    .dataframe tbody tr th:only-of-type {\n",
       "        vertical-align: middle;\n",
       "    }\n",
       "\n",
       "    .dataframe tbody tr th {\n",
       "        vertical-align: top;\n",
       "    }\n",
       "\n",
       "    .dataframe thead th {\n",
       "        text-align: right;\n",
       "    }\n",
       "</style>\n",
       "<table border=\"1\" class=\"dataframe\">\n",
       "  <thead>\n",
       "    <tr style=\"text-align: right;\">\n",
       "      <th></th>\n",
       "      <th>Date</th>\n",
       "      <th>SPX</th>\n",
       "      <th>GLD</th>\n",
       "      <th>USO</th>\n",
       "      <th>SLV</th>\n",
       "      <th>EUR/USD</th>\n",
       "    </tr>\n",
       "  </thead>\n",
       "  <tbody>\n",
       "    <tr>\n",
       "      <th>0</th>\n",
       "      <td>01/02/08</td>\n",
       "      <td>1447.160034</td>\n",
       "      <td>84.860001</td>\n",
       "      <td>78.470001</td>\n",
       "      <td>15.180</td>\n",
       "      <td>1.471692</td>\n",
       "    </tr>\n",
       "    <tr>\n",
       "      <th>1</th>\n",
       "      <td>01/03/08</td>\n",
       "      <td>1447.160034</td>\n",
       "      <td>85.570000</td>\n",
       "      <td>78.370003</td>\n",
       "      <td>15.285</td>\n",
       "      <td>1.474491</td>\n",
       "    </tr>\n",
       "    <tr>\n",
       "      <th>2</th>\n",
       "      <td>01/04/08</td>\n",
       "      <td>1411.630005</td>\n",
       "      <td>85.129997</td>\n",
       "      <td>77.309998</td>\n",
       "      <td>15.167</td>\n",
       "      <td>1.475492</td>\n",
       "    </tr>\n",
       "    <tr>\n",
       "      <th>3</th>\n",
       "      <td>01/07/08</td>\n",
       "      <td>1416.180054</td>\n",
       "      <td>84.769997</td>\n",
       "      <td>75.500000</td>\n",
       "      <td>15.053</td>\n",
       "      <td>1.468299</td>\n",
       "    </tr>\n",
       "    <tr>\n",
       "      <th>4</th>\n",
       "      <td>01/08/08</td>\n",
       "      <td>1390.189941</td>\n",
       "      <td>86.779999</td>\n",
       "      <td>76.059998</td>\n",
       "      <td>15.590</td>\n",
       "      <td>1.557099</td>\n",
       "    </tr>\n",
       "  </tbody>\n",
       "</table>\n",
       "</div>"
      ],
      "text/plain": [
       "       Date          SPX        GLD        USO     SLV   EUR/USD\n",
       "0  01/02/08  1447.160034  84.860001  78.470001  15.180  1.471692\n",
       "1  01/03/08  1447.160034  85.570000  78.370003  15.285  1.474491\n",
       "2  01/04/08  1411.630005  85.129997  77.309998  15.167  1.475492\n",
       "3  01/07/08  1416.180054  84.769997  75.500000  15.053  1.468299\n",
       "4  01/08/08  1390.189941  86.779999  76.059998  15.590  1.557099"
      ]
     },
     "execution_count": 3,
     "metadata": {},
     "output_type": "execute_result"
    }
   ],
   "source": [
    "df.head()"
   ]
  },
  {
   "cell_type": "code",
   "execution_count": 4,
   "id": "7f1a6629-3600-48c0-b092-fe17047ad5b9",
   "metadata": {},
   "outputs": [
    {
     "data": {
      "text/plain": [
       "2290"
      ]
     },
     "execution_count": 4,
     "metadata": {},
     "output_type": "execute_result"
    }
   ],
   "source": [
    "len(df)"
   ]
  },
  {
   "cell_type": "code",
   "execution_count": 5,
   "id": "f2826d38-9202-4b2e-98ed-b197e8198a09",
   "metadata": {},
   "outputs": [],
   "source": [
    "X=df[[\"SPX\",\"USO\",\"SLV\",\"EUR/USD\"]]\n",
    "y=df[\"GLD\"]"
   ]
  },
  {
   "cell_type": "code",
   "execution_count": 6,
   "id": "e049fad0-5f68-4cf8-9263-304cf07ca36c",
   "metadata": {},
   "outputs": [],
   "source": [
    "from sklearn.model_selection import train_test_split"
   ]
  },
  {
   "cell_type": "code",
   "execution_count": 7,
   "id": "1e262205-c705-4c6c-9ec9-20bee437396d",
   "metadata": {},
   "outputs": [],
   "source": [
    "X_train, X_test, y_train, y_test = train_test_split(X, y, test_size=0.2)"
   ]
  },
  {
   "cell_type": "code",
   "execution_count": 8,
   "id": "26e82549-bdf9-4e29-9985-6d56d8f74bd8",
   "metadata": {},
   "outputs": [
    {
     "data": {
      "text/plain": [
       "1832"
      ]
     },
     "execution_count": 8,
     "metadata": {},
     "output_type": "execute_result"
    }
   ],
   "source": [
    "len(X_train)"
   ]
  },
  {
   "cell_type": "code",
   "execution_count": 9,
   "id": "bd5c4f2c-498d-45c9-89f2-0fc7d26c3c13",
   "metadata": {},
   "outputs": [
    {
     "data": {
      "text/plain": [
       "1832"
      ]
     },
     "execution_count": 9,
     "metadata": {},
     "output_type": "execute_result"
    }
   ],
   "source": [
    "len(y_train)"
   ]
  },
  {
   "cell_type": "code",
   "execution_count": 10,
   "id": "4edd0917-72d4-4ae9-9afd-74e94772b375",
   "metadata": {},
   "outputs": [
    {
     "data": {
      "text/plain": [
       "458"
      ]
     },
     "execution_count": 10,
     "metadata": {},
     "output_type": "execute_result"
    }
   ],
   "source": [
    "len(X_test)"
   ]
  },
  {
   "cell_type": "code",
   "execution_count": 11,
   "id": "e18385d5-7c89-4af7-ad85-8a4fbb7fff0f",
   "metadata": {},
   "outputs": [
    {
     "data": {
      "text/plain": [
       "458"
      ]
     },
     "execution_count": 11,
     "metadata": {},
     "output_type": "execute_result"
    }
   ],
   "source": [
    "len(y_test)"
   ]
  },
  {
   "cell_type": "code",
   "execution_count": 12,
   "id": "55c32222-7f17-41f9-813b-2db1427f2607",
   "metadata": {},
   "outputs": [],
   "source": [
    "from sklearn.preprocessing import MinMaxScaler"
   ]
  },
  {
   "cell_type": "code",
   "execution_count": 13,
   "id": "d9567963-bf73-4ece-9506-911a30d4cbd4",
   "metadata": {},
   "outputs": [],
   "source": [
    "scaler= MinMaxScaler()"
   ]
  },
  {
   "cell_type": "code",
   "execution_count": 14,
   "id": "12dc8084-ce6e-4ea8-a638-bf19ff47f1a9",
   "metadata": {},
   "outputs": [],
   "source": [
    "X_train_scaled=scaler.fit_transform(X_train)\n",
    "X_test_scaled=scaler.transform(X_test)"
   ]
  },
  {
   "cell_type": "markdown",
   "id": "d75f7047-42e2-4e4f-8603-ac20c9d5cece",
   "metadata": {},
   "source": [
    "scaler.fit_transform(X_train) fits the scaler to the training data (X_train) and then transforms it. This means the scaler learns the parameters needed for scaling from the training data and applies the transformation simultaneously.\n",
    "\n",
    "scaler.transform(X_test) applies the transformation learned from the training data to the test data (X_test). It's important not to call fit() again on the test data, as you want to use the same scaling parameters learned from the training data to ensure consistency."
   ]
  },
  {
   "cell_type": "code",
   "execution_count": 15,
   "id": "074133eb-2ed8-41e8-bf2c-94510ebb10f0",
   "metadata": {},
   "outputs": [
    {
     "name": "stdout",
     "output_type": "stream",
     "text": [
      "WARNING:tensorflow:From C:\\Users\\ganig\\anaconda3\\Lib\\site-packages\\keras\\src\\losses.py:2976: The name tf.losses.sparse_softmax_cross_entropy is deprecated. Please use tf.compat.v1.losses.sparse_softmax_cross_entropy instead.\n",
      "\n"
     ]
    }
   ],
   "source": [
    "import tensorflow as tf\n",
    "from tensorflow.keras import Sequential\n",
    "from tensorflow.keras.layers import Dense"
   ]
  },
  {
   "cell_type": "code",
   "execution_count": 16,
   "id": "088a4ea8-b3e2-4c95-877b-2d7d6b7ec48c",
   "metadata": {},
   "outputs": [
    {
     "name": "stdout",
     "output_type": "stream",
     "text": [
      "WARNING:tensorflow:From C:\\Users\\ganig\\anaconda3\\Lib\\site-packages\\keras\\src\\backend.py:873: The name tf.get_default_graph is deprecated. Please use tf.compat.v1.get_default_graph instead.\n",
      "\n"
     ]
    }
   ],
   "source": [
    "model=Sequential()"
   ]
  },
  {
   "cell_type": "code",
   "execution_count": 17,
   "id": "f97ea0f9-f726-40bc-ab62-9407efefecc4",
   "metadata": {},
   "outputs": [],
   "source": [
    "model.add(Dense(10,activation=\"relu\",input_dim=4))\n",
    "model.add(Dense(10,activation=\"relu\"))\n",
    "model.add(Dense(1,activation=\"linear\"))"
   ]
  },
  {
   "cell_type": "code",
   "execution_count": 18,
   "id": "d0fc721b-bd8a-4aaa-a52e-cdbe0ce9cb40",
   "metadata": {},
   "outputs": [
    {
     "name": "stdout",
     "output_type": "stream",
     "text": [
      "WARNING:tensorflow:From C:\\Users\\ganig\\anaconda3\\Lib\\site-packages\\keras\\src\\optimizers\\__init__.py:309: The name tf.train.Optimizer is deprecated. Please use tf.compat.v1.train.Optimizer instead.\n",
      "\n"
     ]
    }
   ],
   "source": [
    "model.compile(loss=\"mean_squared_error\",optimizer=\"Adam\")"
   ]
  },
  {
   "cell_type": "code",
   "execution_count": 19,
   "id": "9f008b35-7382-4a5f-907b-a0ff6b070a11",
   "metadata": {},
   "outputs": [
    {
     "name": "stdout",
     "output_type": "stream",
     "text": [
      "Epoch 1/50\n",
      "WARNING:tensorflow:From C:\\Users\\ganig\\anaconda3\\Lib\\site-packages\\keras\\src\\utils\\tf_utils.py:492: The name tf.ragged.RaggedTensorValue is deprecated. Please use tf.compat.v1.ragged.RaggedTensorValue instead.\n",
      "\n",
      "52/52 [==============================] - 1s 4ms/step - loss: 15740.5967 - val_loss: 14986.8965\n",
      "Epoch 2/50\n",
      "52/52 [==============================] - 0s 2ms/step - loss: 15637.8691 - val_loss: 14865.0059\n",
      "Epoch 3/50\n",
      "52/52 [==============================] - 0s 2ms/step - loss: 15469.3018 - val_loss: 14623.7891\n",
      "Epoch 4/50\n",
      "52/52 [==============================] - 0s 2ms/step - loss: 15099.7607 - val_loss: 14136.1641\n",
      "Epoch 5/50\n",
      "52/52 [==============================] - 0s 3ms/step - loss: 14463.5586 - val_loss: 13347.1084\n",
      "Epoch 6/50\n",
      "52/52 [==============================] - 0s 2ms/step - loss: 13463.5615 - val_loss: 12166.3438\n",
      "Epoch 7/50\n",
      "52/52 [==============================] - 0s 2ms/step - loss: 12051.7500 - val_loss: 10588.8691\n",
      "Epoch 8/50\n",
      "52/52 [==============================] - 0s 2ms/step - loss: 10273.2637 - val_loss: 8719.7090\n",
      "Epoch 9/50\n",
      "52/52 [==============================] - 0s 2ms/step - loss: 8261.6123 - val_loss: 6718.1211\n",
      "Epoch 10/50\n",
      "52/52 [==============================] - 0s 2ms/step - loss: 6211.3423 - val_loss: 4795.3301\n",
      "Epoch 11/50\n",
      "52/52 [==============================] - 0s 2ms/step - loss: 4333.6558 - val_loss: 3165.3325\n",
      "Epoch 12/50\n",
      "52/52 [==============================] - 0s 2ms/step - loss: 2811.5588 - val_loss: 1955.2604\n",
      "Epoch 13/50\n",
      "52/52 [==============================] - 0s 2ms/step - loss: 1742.8184 - val_loss: 1189.7891\n",
      "Epoch 14/50\n",
      "52/52 [==============================] - 0s 2ms/step - loss: 1101.5588 - val_loss: 792.2559\n",
      "Epoch 15/50\n",
      "52/52 [==============================] - 0s 2ms/step - loss: 779.3748 - val_loss: 623.3062\n",
      "Epoch 16/50\n",
      "52/52 [==============================] - 0s 2ms/step - loss: 637.3324 - val_loss: 564.0392\n",
      "Epoch 17/50\n",
      "52/52 [==============================] - 0s 2ms/step - loss: 579.4257 - val_loss: 541.9385\n",
      "Epoch 18/50\n",
      "52/52 [==============================] - 0s 2ms/step - loss: 551.6921 - val_loss: 528.4940\n",
      "Epoch 19/50\n",
      "52/52 [==============================] - 0s 2ms/step - loss: 533.8107 - val_loss: 517.0853\n",
      "Epoch 20/50\n",
      "52/52 [==============================] - 0s 2ms/step - loss: 518.5956 - val_loss: 502.3898\n",
      "Epoch 21/50\n",
      "52/52 [==============================] - 0s 2ms/step - loss: 503.9968 - val_loss: 488.9594\n",
      "Epoch 22/50\n",
      "52/52 [==============================] - 0s 2ms/step - loss: 490.1884 - val_loss: 475.7066\n",
      "Epoch 23/50\n",
      "52/52 [==============================] - 0s 2ms/step - loss: 476.5079 - val_loss: 462.1136\n",
      "Epoch 24/50\n",
      "52/52 [==============================] - 0s 2ms/step - loss: 463.3452 - val_loss: 448.2793\n",
      "Epoch 25/50\n",
      "52/52 [==============================] - 0s 2ms/step - loss: 450.2870 - val_loss: 434.1661\n",
      "Epoch 26/50\n",
      "52/52 [==============================] - 0s 2ms/step - loss: 437.5834 - val_loss: 421.9392\n",
      "Epoch 27/50\n",
      "52/52 [==============================] - 0s 2ms/step - loss: 425.0721 - val_loss: 410.4824\n",
      "Epoch 28/50\n",
      "52/52 [==============================] - 0s 2ms/step - loss: 413.1553 - val_loss: 396.4680\n",
      "Epoch 29/50\n",
      "52/52 [==============================] - 0s 2ms/step - loss: 401.2837 - val_loss: 385.0682\n",
      "Epoch 30/50\n",
      "52/52 [==============================] - 0s 2ms/step - loss: 389.9258 - val_loss: 372.1911\n",
      "Epoch 31/50\n",
      "52/52 [==============================] - 0s 2ms/step - loss: 378.8267 - val_loss: 361.2084\n",
      "Epoch 32/50\n",
      "52/52 [==============================] - 0s 2ms/step - loss: 368.1229 - val_loss: 350.1582\n",
      "Epoch 33/50\n",
      "52/52 [==============================] - 0s 2ms/step - loss: 357.2549 - val_loss: 339.5134\n",
      "Epoch 34/50\n",
      "52/52 [==============================] - 0s 2ms/step - loss: 347.0143 - val_loss: 328.5110\n",
      "Epoch 35/50\n",
      "52/52 [==============================] - 0s 2ms/step - loss: 337.0261 - val_loss: 317.4990\n",
      "Epoch 36/50\n",
      "52/52 [==============================] - 0s 2ms/step - loss: 327.3108 - val_loss: 307.6536\n",
      "Epoch 37/50\n",
      "52/52 [==============================] - 0s 3ms/step - loss: 318.2072 - val_loss: 297.5859\n",
      "Epoch 38/50\n",
      "52/52 [==============================] - 0s 2ms/step - loss: 309.1788 - val_loss: 289.0966\n",
      "Epoch 39/50\n",
      "52/52 [==============================] - 0s 2ms/step - loss: 300.5392 - val_loss: 278.7075\n",
      "Epoch 40/50\n",
      "52/52 [==============================] - 0s 2ms/step - loss: 291.9346 - val_loss: 271.4888\n",
      "Epoch 41/50\n",
      "52/52 [==============================] - 0s 2ms/step - loss: 283.5757 - val_loss: 262.3657\n",
      "Epoch 42/50\n",
      "52/52 [==============================] - 0s 2ms/step - loss: 275.5827 - val_loss: 254.5162\n",
      "Epoch 43/50\n",
      "52/52 [==============================] - 0s 3ms/step - loss: 267.7744 - val_loss: 245.6538\n",
      "Epoch 44/50\n",
      "52/52 [==============================] - 0s 3ms/step - loss: 260.3287 - val_loss: 238.2324\n",
      "Epoch 45/50\n",
      "52/52 [==============================] - 0s 2ms/step - loss: 252.9133 - val_loss: 230.1453\n",
      "Epoch 46/50\n",
      "52/52 [==============================] - 0s 2ms/step - loss: 245.9861 - val_loss: 223.5035\n",
      "Epoch 47/50\n",
      "52/52 [==============================] - 0s 2ms/step - loss: 238.9053 - val_loss: 216.7921\n",
      "Epoch 48/50\n",
      "52/52 [==============================] - 0s 2ms/step - loss: 232.1155 - val_loss: 209.1568\n",
      "Epoch 49/50\n",
      "52/52 [==============================] - 0s 2ms/step - loss: 225.8906 - val_loss: 202.1774\n",
      "Epoch 50/50\n",
      "52/52 [==============================] - 0s 2ms/step - loss: 219.3637 - val_loss: 195.4983\n"
     ]
    }
   ],
   "source": [
    "history=model.fit(X_train_scaled,y_train,epochs=50,validation_split=0.1)"
   ]
  },
  {
   "cell_type": "markdown",
   "id": "b02b840e-da41-40b0-8e15-d89e467a999f",
   "metadata": {},
   "source": [
    "In machine learning, \"loss\" typically refers to a quantity that measures how well the model's predictions match the true target values."
   ]
  },
  {
   "cell_type": "code",
   "execution_count": 20,
   "id": "894e5fbe-4984-4780-8784-3dc1b71ec1bb",
   "metadata": {},
   "outputs": [
    {
     "name": "stdout",
     "output_type": "stream",
     "text": [
      "15/15 [==============================] - 0s 1ms/step\n"
     ]
    }
   ],
   "source": [
    "y_pred=model.predict(X_test_scaled)"
   ]
  },
  {
   "cell_type": "code",
   "execution_count": 21,
   "id": "2e6cb3ef-61b3-4efe-8daa-d088fe012637",
   "metadata": {},
   "outputs": [],
   "source": [
    "from sklearn.metrics import r2_score"
   ]
  },
  {
   "cell_type": "code",
   "execution_count": 22,
   "id": "6b331772-59c6-406c-83c3-d1bb26365d91",
   "metadata": {},
   "outputs": [
    {
     "data": {
      "text/plain": [
       "0.6224010364883963"
      ]
     },
     "execution_count": 22,
     "metadata": {},
     "output_type": "execute_result"
    }
   ],
   "source": [
    "r2_score(y_test,y_pred)"
   ]
  },
  {
   "cell_type": "markdown",
   "id": "94d6dc62-e0c5-4718-be26-175a9f8cb756",
   "metadata": {},
   "source": [
    "The R2 score typically ranges from 0 to 1. A score of 1 indicates a perfect fit, meaning the model explains all the variability of the dependent variable around its mean. A score of 0 indicates that the model does not explain any of the variability of the dependent variable around its mean."
   ]
  },
  {
   "cell_type": "code",
   "execution_count": null,
   "id": "2a9d6310-867c-449d-83e1-41b362ab7b80",
   "metadata": {},
   "outputs": [],
   "source": []
  }
 ],
 "metadata": {
  "kernelspec": {
   "display_name": "Python 3 (ipykernel)",
   "language": "python",
   "name": "python3"
  },
  "language_info": {
   "codemirror_mode": {
    "name": "ipython",
    "version": 3
   },
   "file_extension": ".py",
   "mimetype": "text/x-python",
   "name": "python",
   "nbconvert_exporter": "python",
   "pygments_lexer": "ipython3",
   "version": "3.11.7"
  }
 },
 "nbformat": 4,
 "nbformat_minor": 5
}
